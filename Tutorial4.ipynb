{
 "cells": [
  {
   "cell_type": "markdown",
   "metadata": {},
   "source": [
    "# Tutorial 4: Dissecting local chemo-kinematic structure"
   ]
  },
  {
   "cell_type": "code",
   "execution_count": 1,
   "metadata": {},
   "outputs": [],
   "source": [
    "import numpy as np\n",
    "import matplotlib.pyplot as plt\n",
    "import seaborn as sns\n",
    "import pandas as pd\n",
    "import glob\n",
    "from astropy.table import Table, hstack, vstack\n",
    "from astropy.coordinates import SkyCoord, Distance, Galactocentric\n",
    "import astropy.units as u\n",
    "import warnings\n",
    "warnings.filterwarnings('ignore')\n",
    "\n",
    "%matplotlib inline"
   ]
  },
  {
   "cell_type": "markdown",
   "metadata": {},
   "source": [
    "In this tutorial we will complement the Gaia data with other spectroscopic data. This demonstrates the crucial function of cross-matching large catalogues.\n",
    "\n",
    "Gaia does not provide any metallicity or abundance information. In order to understand the chemo-kinematic structure of the Galaxy we must complement with results from other spectroscopic surveys. Here we will use GALAH as it has observations of many nearby bright stars. This uses the pre-downloaded data tables (available on USB sticks, by downloading from \n",
    "\n",
    "http://cdn.gea.esac.esa.int/Gaia/gdr2/gaia_source_with_rv/csv/ \n",
    "\n",
    "and \n",
    "\n",
    "https://www.ast.cam.ac.uk/~jls/data/galah_dr2.fits \n",
    "\n",
    "or \n",
    "\n",
    "https://datacentral.org.au/teamdata/GALAH/public/\n",
    "\n",
    "). Note that as GALAH provides radial velocities we could cross-match to the entire Gaia catalogue and only use Gaia proper motions and parallaxes."
   ]
  },
  {
   "cell_type": "code",
   "execution_count": 2,
   "metadata": {},
   "outputs": [],
   "source": [
    "def read_gaia_rvs(f):\n",
    "    gaia_rvs_full = pd.read_csv(f)\n",
    "    fltr = (gaia_rvs_full['parallax']>5.)&(gaia_rvs_full['parallax_over_error']>3.)\n",
    "    fltr &= (gaia_rvs_full['radial_velocity']>-1000.)\n",
    "    fltr &= (np.abs(gaia_rvs_full['b'])>8.)\n",
    "    fltr &= (gaia_rvs_full['dec']<10.)\n",
    "    gaia_rvs = gaia_rvs_full[fltr].reset_index(drop=True)\n",
    "    return Table.from_pandas(gaia_rvs)\n",
    "gaia_rvs = vstack([read_gaia_rvs(f) for f in glob.glob('GaiaSource_*.csv')])\n",
    "\n",
    "galah = Table.read('galah_dr2.fits')"
   ]
  },
  {
   "cell_type": "markdown",
   "metadata": {},
   "source": [
    "Here we find the entries in the Gaia RVS table that correspond to entries in the GALAH DR2 table. This will find the entry that is closest in $(\\Delta\\alpha\\cos\\delta,\\Delta\\delta)$."
   ]
  },
  {
   "cell_type": "code",
   "execution_count": 3,
   "metadata": {},
   "outputs": [],
   "source": [
    "gaia_rvs_skycoord = SkyCoord(ra=gaia_rvs['ra']*u.deg, \n",
    "                             dec=gaia_rvs['dec']*u.deg)  \n",
    "galah_skycoord  = SkyCoord(ra=galah['raj2000']*u.degree, \n",
    "                           dec=galah['dej2000']*u.degree)  \n",
    "idx, dist_onsky, d3d = galah_skycoord.match_to_catalog_sky(\n",
    "                    gaia_rvs_skycoord)"
   ]
  },
  {
   "cell_type": "markdown",
   "metadata": {},
   "source": [
    "We join the tables and then only keep entries where the cross-match distance was less than 3 arcsec."
   ]
  },
  {
   "cell_type": "code",
   "execution_count": 4,
   "metadata": {},
   "outputs": [
    {
     "name": "stdout",
     "output_type": "stream",
     "text": [
      "No. of XMatches= 6698\n"
     ]
    },
    {
     "data": {
      "text/plain": [
       "Text(0.5, 0, 'Cross-match distance / arcsec')"
      ]
     },
     "execution_count": 4,
     "metadata": {},
     "output_type": "execute_result"
    },
    {
     "data": {
      "image/png": "[encoded data removed]",
      "text/plain": [
       "<Figure size 432x288 with 1 Axes>"
      ]
     },
     "metadata": {
      "needs_background": "light"
     },
     "output_type": "display_data"
    }
   ],
   "source": [
    "gaia_xm = hstack([galah,gaia_rvs[idx]])[dist_onsky<3.*u.arcsec]\n",
    "print('No. of XMatches=',len(gaia_xm))\n",
    "plt.hist(dist_onsky.arcsec,range=[0.,5.],histtype='step',lw=3,bins=50);\n",
    "plt.semilogy()\n",
    "plt.xlabel('Cross-match distance / arcsec')"
   ]
  },
  {
   "cell_type": "markdown",
   "metadata": {},
   "source": [
    "We can compare the radial velocities from Gaia and GALAH. Pretty good."
   ]
  },
  {
   "cell_type": "code",
   "execution_count": 5,
   "metadata": {},
   "outputs": [
    {
     "data": {
      "text/plain": [
       "Text(0.5, 0, 'Vel. diff / km/s')"
      ]
     },
     "execution_count": 5,
     "metadata": {},
     "output_type": "execute_result"
    },
    {
     "data": {
      "image/png": "[encoded data removed]",
      "text/plain": [
       "<Figure size 432x288 with 1 Axes>"
      ]
     },
     "metadata": {
      "needs_background": "light"
     },
     "output_type": "display_data"
    }
   ],
   "source": [
    "plt.hist(gaia_xm['rv_obst']-gaia_xm['radial_velocity'],range=[-2.,2.],bins=50);\n",
    "plt.xlabel('Vel. diff / km/s')"
   ]
  },
  {
   "cell_type": "markdown",
   "metadata": {},
   "source": [
    "The cross-match metallicity distribution is similar to all of GALAH."
   ]
  },
  {
   "cell_type": "code",
   "execution_count": 6,
   "metadata": {},
   "outputs": [
    {
     "data": {
      "text/plain": [
       "<matplotlib.legend.Legend at 0x1a1df6ff98>"
      ]
     },
     "execution_count": 6,
     "metadata": {},
     "output_type": "execute_result"
    },
    {
     "data": {
      "image/png": "[encoded data removed]",
      "text/plain": [
       "<Figure size 432x288 with 1 Axes>"
      ]
     },
     "metadata": {
      "needs_background": "light"
     },
     "output_type": "display_data"
    }
   ],
   "source": [
    "plt.hist(galah['fe_h'],range=[-1.,0.6],normed=True,\n",
    "         histtype='step',lw=3,bins=50,label='GALAH')\n",
    "plt.hist(gaia_xm['fe_h'],range=[-1.,0.6],normed=True,\n",
    "         histtype='step',lw=3,bins=50,label='XM')\n",
    "plt.xlabel(r'$[\\mathrm{Fe}/\\mathrm{H}]$')\n",
    "plt.legend()"
   ]
  },
  {
   "cell_type": "markdown",
   "metadata": {},
   "source": [
    "## Velocity distributions split by metallicity"
   ]
  },
  {
   "cell_type": "code",
   "execution_count": 7,
   "metadata": {},
   "outputs": [],
   "source": [
    "# allow_negative means the distance=nan if parallax<0\n",
    "s = SkyCoord(ra=gaia_xm['ra']*u.deg,dec=gaia_xm['dec']*u.deg,\n",
    "             distance=Distance(\n",
    "                 parallax=gaia_xm['parallax'].data.data*u.mas, \n",
    "                 allow_negative=True),\n",
    "             pm_ra_cosdec=gaia_xm['pmra']*u.mas/u.yr,\n",
    "             pm_dec=gaia_xm['pmdec']*u.mas/u.yr,\n",
    "             radial_velocity=gaia_xm['radial_velocity']*u.km/u.s)\n",
    "galcen = s.transform_to(Galactocentric)"
   ]
  },
  {
   "cell_type": "code",
   "execution_count": 8,
   "metadata": {},
   "outputs": [
    {
     "data": {
      "image/png": "[encoded data removed]",
      "text/plain": [
       "<Figure size 1080x360 with 3 Axes>"
      ]
     },
     "metadata": {
      "needs_background": "light"
     },
     "output_type": "display_data"
    }
   ],
   "source": [
    "f,a=plt.subplots(1,3,figsize=[15.,5.],sharey=True)\n",
    "feh_range = [-1.,-0.4,-0.2,0.1]\n",
    "from matplotlib.colors import LogNorm\n",
    "for f in range(len(feh_range)-1):\n",
    "    plt.sca(a[f])\n",
    "    fltr = (gaia_xm['fe_h']>feh_range[f])&(gaia_xm['fe_h']<feh_range[f+1])\n",
    "    plt.hist2d(galcen.v_x.value[fltr],galcen.v_y.value[fltr], bins=20,\n",
    "              range=[[-50,50],[150.,250.]],norm=LogNorm(),normed=True)\n",
    "    plt.annotate(r'$%0.2f<[\\mathrm{Fe}/\\mathrm{H}]<%0.2f$'\\\n",
    "                 %(feh_range[f],feh_range[f+1]),\n",
    "                xy=(0.5,1.05),xycoords='axes fraction',\n",
    "                 ha='center',fontsize=20)\n",
    "    plt.xlabel(r'$v_x$')\n",
    "plt.sca(a[0])\n",
    "plt.ylabel(r'$v_y$');"
   ]
  },
  {
   "cell_type": "markdown",
   "metadata": {},
   "source": [
    "The Hercules is definitely more visible in the metal-rich bin."
   ]
  },
  {
   "cell_type": "markdown",
   "metadata": {},
   "source": [
    "We have demonstrated how to cross-match catalogues. This is necessary if we want to use Gaia with any chemical abundance information. We have used this to inspect the local velocity structure separated by metallicity. \n",
    "\n",
    "Things to do next:\n",
    "\n",
    "1. Subdivide based on other abundances\n",
    "2. Inspect action, angle, frequency diagrams split by abundance\n",
    "3. Investigate vertical distributions (Gaia spiral)\n",
    "\n",
    "See Bland-Hawthorn et al. (2018)"
   ]
  }
 ],
 "metadata": {
  "kernelspec": {
   "display_name": "Python 3",
   "language": "python",
   "name": "python3"
  },
  "language_info": {
   "codemirror_mode": {
    "name": "ipython",
    "version": 3
   },
   "file_extension": ".py",
   "mimetype": "text/x-python",
   "name": "python",
   "nbconvert_exporter": "python",
   "pygments_lexer": "ipython3",
   "version": "3.7.1"
  },
  "latex_metadata": {
   "affiliation": "Institute of Astronomy, Cambridge",
   "author": "Jason L. Sanders",
   "title": "Tutorial 4"
  }
 },
 "nbformat": 4,
 "nbformat_minor": 2
}
