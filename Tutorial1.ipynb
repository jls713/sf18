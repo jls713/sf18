{
 "cells": [
  {
   "cell_type": "markdown",
   "metadata": {},
   "source": [
    "# Tutorial 1: The vertical density profile"
   ]
  },
  {
   "cell_type": "code",
   "execution_count": 1,
   "metadata": {},
   "outputs": [],
   "source": [
    "import numpy as np\n",
    "import matplotlib.pyplot as plt\n",
    "import seaborn as sns\n",
    "import warnings\n",
    "warnings.filterwarnings('ignore')\n",
    "\n",
    "%matplotlib inline"
   ]
  },
  {
   "cell_type": "markdown",
   "metadata": {},
   "source": [
    "In this tutorial we will inspect the vertical density profile of the Milky Way. This will illustrate basic access of the Gaia data.\n",
    "\n",
    "We use the TAP functionality in astroquery to collect Gaia DR2 data. This runs an ADQL query remotely and retrieves the data -- ADQL is like SQL with added functions to specifically querying astronomical datasets). You will get lots of warnings as astropy doesn't like the units used by Gaia -- I have switched these off with the warnings package. This query gets the top 100 stars with positive parallaxes and parallax/parallax_error>3. You can replace the ADQL query with your own ADQL query (see \\href{https://gea.esac.esa.int/archive-help/adql/examples/index.html}{https://gea.esac.esa.int/archive-help/adql/examples/index.html} for some examples of Gaia ADQL queries.\n",
    "\n",
    "To get the names of the columns, we have to look here https://gea.esac.esa.int/archive/documentation/GDR2/Gaia_archive/chap_datamodel/"
   ]
  },
  {
   "cell_type": "code",
   "execution_count": 32,
   "metadata": {},
   "outputs": [
    {
     "name": "stdout",
     "output_type": "stream",
     "text": [
      "Query finished.\n",
      "    solution_id             designation          ... epoch_photometry_url\n",
      "                                                 ...                     \n",
      "------------------- ---------------------------- ... --------------------\n",
      "1635721458409799680 Gaia DR2 3665321345195491840 ...                   --\n",
      "1635721458409799680 Gaia DR2 3665262933639854080 ...                   --\n",
      "1635721458409799680 Gaia DR2 3665391473421016576 ...                   --\n",
      "1635721458409799680 Gaia DR2 3665268847810309504 ...                   --\n",
      "1635721458409799680 Gaia DR2 3665568907110130944 ...                   --\n",
      "1635721458409799680 Gaia DR2 3665359969836446592 ...                   --\n",
      "1635721458409799680 Gaia DR2 3665363298436254848 ...                   --\n",
      "1635721458409799680 Gaia DR2 3665310040841426688 ...                   --\n",
      "1635721458409799680 Gaia DR2 3665493384405764608 ...                   --\n",
      "1635721458409799680 Gaia DR2 3665430750897562752 ...                   --\n",
      "                ...                          ... ...                  ...\n",
      "1635721458409799680 Gaia DR2 3665565990827782912 ...                   --\n",
      "1635721458409799680 Gaia DR2 3665558770987473408 ...                   --\n",
      "1635721458409799680 Gaia DR2 3665295609751790592 ...                   --\n",
      "1635721458409799680 Gaia DR2 6659606865605123328 ...                   --\n",
      "1635721458409799680 Gaia DR2 6659607140483404672 ...                   --\n",
      "1635721458409799680 Gaia DR2 6659669091091715840 ...                   --\n",
      "1635721458409799680 Gaia DR2 4051854146967173632 ...                   --\n",
      "1635721458409799680  Gaia DR2 454718259334117888 ...                   --\n",
      "1635721458409799680  Gaia DR2 454677027647939584 ...                   --\n",
      "1635721458409799680 Gaia DR2 6659596145366748288 ...                   --\n",
      "Length = 100 rows\n"
     ]
    }
   ],
   "source": [
    "from astroquery.gaia import Gaia\n",
    "job = Gaia.launch_job_async(\n",
    "    \"select top 100 * from gaiadr2.gaia_source \"+\n",
    "    \"where parallax>0 and parallax_over_error>3. \") # Select `good' parallaxes\n",
    "\n",
    "table = job.get_results()\n",
    "print(table)"
   ]
  },
  {
   "cell_type": "markdown",
   "metadata": {},
   "source": [
    "We can access individual columns like this. Note the units."
   ]
  },
  {
   "cell_type": "code",
   "execution_count": 3,
   "metadata": {},
   "outputs": [
    {
     "name": "stdout",
     "output_type": "stream",
     "text": [
      "        pmra        \n",
      "      mas / yr      \n",
      "--------------------\n",
      "  -4.723500811005363\n",
      " -1.2166110665275116\n",
      "  -2.552363253029383\n",
      "   0.635310067557883\n",
      "   7.183843236279285\n",
      "  -3.546599888307931\n",
      "  11.911708507626308\n",
      " -2.4256420035008754\n",
      "-0.17462586774462907\n",
      " -3.9148021973513023\n",
      "                 ...\n",
      "  -4.938098907925836\n",
      "  -6.335910962969821\n",
      " -3.6578054574670977\n",
      " -0.7909434760493024\n",
      " -3.8816262823174457\n",
      "  -3.931825771742191\n",
      " -0.3983276159959158\n",
      "  13.828522532510284\n",
      " -3.2895709286266417\n",
      " -5.0306145886236076\n",
      "Length = 100 rows\n"
     ]
    }
   ],
   "source": [
    "print(table['pmra'])"
   ]
  },
  {
   "cell_type": "markdown",
   "metadata": {},
   "source": [
    "We will now query some main sequence stars around the North Galactic Pole (Galactic latitude greater than $85\\,\\mathrm{deg}$). \n",
    "The ADQL language implements various mathematical functions. Here we are using log10. We require good parallaxes (not negative and with small errors -- this might bias our sample in funny ways but for now it is good enough). We select a small range in colours $0.65<(G_\\mathrm{BP}-G_\\mathrm{RP})<0.85$ and ensure they are main sequence by cutting on absolute magnitude. We don't worry about extinction as this effect is small when looking straight out of the disc."
   ]
  },
  {
   "cell_type": "code",
   "execution_count": 4,
   "metadata": {},
   "outputs": [
    {
     "name": "stdout",
     "output_type": "stream",
     "text": [
      "Query finished.\n"
     ]
    }
   ],
   "source": [
    "from astroquery.gaia import Gaia\n",
    "job = Gaia.launch_job_async(\n",
    "    \"\"\"select top 3000 phot_g_mean_mag,parallax \"\"\"\n",
    "    \"\"\"from gaiadr2.gaia_source \"\"\"\n",
    "    \"\"\"where b>85. \"\"\"                              # Around North Galactic Pole\n",
    "    \"\"\"and parallax>0 and parallax_over_error>3. \"\"\"# Select `good' parallaxes\n",
    "    \"\"\"and bp_rp>0.65 and bp_rp<0.85 \"\"\"    # Select upper main sequence colours\n",
    "    \"\"\"and phot_g_mean_mag-5*log10(100./parallax) < 6.\"\"\") # Remove giant contaminants\n",
    "\n",
    "table = job.get_results();"
   ]
  },
  {
   "cell_type": "markdown",
   "metadata": {},
   "source": [
    "Another way to do this is using the ADQL built-in geometric functions. POINT is a function describing a point on the sky and BOX, POLYGON, CIRCLE are all functions that describe a region on the sky. Typically they are used in conjunction with CONTAINS. This will return True (1) is POINT is CONTAINed in CIRCLE. In theory these should work with Galactic coordinates but I can't get this to work. We therefore require the coordinates of the NGP, using astropy. In theory, using ra, dec is faster as the Gaia archive has been indexed on these entries."
   ]
  },
  {
   "cell_type": "code",
   "execution_count": 5,
   "metadata": {},
   "outputs": [
    {
     "data": {
      "text/plain": [
       "<SkyCoord (ICRS): (ra, dec) in deg\n",
       "    (192.85947789, 27.12825241)>"
      ]
     },
     "execution_count": 5,
     "metadata": {},
     "output_type": "execute_result"
    }
   ],
   "source": [
    "from astropy.coordinates import SkyCoord, ICRS\n",
    "import astropy.units as u\n",
    "SkyCoord(l=300.*u.deg,b=90.*u.deg,frame='galactic').transform_to(ICRS)"
   ]
  },
  {
   "cell_type": "markdown",
   "metadata": {},
   "source": [
    "We then write the above query as "
   ]
  },
  {
   "cell_type": "code",
   "execution_count": 6,
   "metadata": {},
   "outputs": [
    {
     "name": "stdout",
     "output_type": "stream",
     "text": [
      "Query finished.\n"
     ]
    }
   ],
   "source": [
    "from astroquery.gaia import Gaia\n",
    "job = Gaia.launch_job_async(\n",
    "    \"\"\"select top 3000 phot_g_mean_mag,parallax \"\"\"\n",
    "    \"\"\"from gaiadr2.gaia_source \"\"\"\n",
    "    \"\"\"where 1=CONTAINS(POINT('ICRS',ra,dec),CIRCLE('ICRS',192.85947789, 27.12825241,5)) \"\"\" # Around North Galactic Pole\n",
    "    \"\"\"and parallax>0 and parallax_over_error>3. \"\"\"# Select `good' parallaxes\n",
    "    \"\"\"and bp_rp>0.65 and bp_rp<0.85 \"\"\"    # Select upper main sequence colours\n",
    "    \"\"\"and phot_g_mean_mag-5*log10(100./parallax) < 6.\"\"\") # Remove giant contaminants\n",
    "\n",
    "table2 = job.get_results();"
   ]
  },
  {
   "cell_type": "code",
   "execution_count": 7,
   "metadata": {},
   "outputs": [
    {
     "data": {
      "image/png": "[encoded data removed]",
      "text/plain": [
       "<Figure size 432x288 with 1 Axes>"
      ]
     },
     "metadata": {
      "needs_background": "light"
     },
     "output_type": "display_data"
    }
   ],
   "source": [
    "plt.hist(table2['phot_g_mean_mag'],histtype='step',lw=3,bins=50);\n",
    "plt.hist(table['phot_g_mean_mag'],histtype='step',lw=3,bins=50,ls='dashed');"
   ]
  },
  {
   "cell_type": "markdown",
   "metadata": {},
   "source": [
    "We have to worry about completeness. Gaia only observes down to a limiting magnitude. We can see in the magnitude distribution a truncation at around $16.3\\,\\mathrm{mag}$. For our selected main sequence stars (with median magnitude $4.3$) this corresponds to a limiting distance of $2.5\\,\\mathrm{kpc}$."
   ]
  },
  {
   "cell_type": "code",
   "execution_count": 8,
   "metadata": {},
   "outputs": [
    {
     "name": "stdout",
     "output_type": "stream",
     "text": [
      "Limiting mag= 16.3 mag\n",
      "Median absolute mag= 4.2873335323882 mag\n",
      "Limiting distance= 2.5265813933891805 kpc\n"
     ]
    },
    {
     "data": {
      "image/png": "[encoded data removed]",
      "text/plain": [
       "<Figure size 432x288 with 1 Axes>"
      ]
     },
     "metadata": {
      "needs_background": "light"
     },
     "output_type": "display_data"
    }
   ],
   "source": [
    "limiting_mag = 16.3 #\n",
    "plt.axvline(limiting_mag,color='k')\n",
    "plt.hist(table['phot_g_mean_mag'],range=[10.,18.],bins=20)\n",
    "plt.xlabel(r'$G/\\,\\mathrm{mag}$')\n",
    "\n",
    "\n",
    "Mv = np.median(table['phot_g_mean_mag']-5.*np.log10(100./table['parallax']))\n",
    "limiting_distance = 10.**(0.2*(-Mv+limiting_mag)-2.)\n",
    "print('Limiting mag=',limiting_mag,'mag')\n",
    "print('Median absolute mag=',Mv,'mag')\n",
    "print('Limiting distance=',limiting_distance,'kpc')"
   ]
  },
  {
   "cell_type": "markdown",
   "metadata": {},
   "source": [
    "We have taken a sample in a cone. As such, there is a larger volume over which we observe distant stars than the volume over which we observe nearby stars. To compute the density with Galactic height we require a Jacobian factor. we denote distance $s$ and parallax $\\varpi$.\n",
    "\n",
    "$n(s) = s^2\\rho(s)$\n",
    "\n",
    "so $\\rho(s) = \\varpi^2 n(1/\\varpi)$.\n",
    "\n",
    "We have overplotted the classical thin/thick disc scaleheight exponentials. Note how beyond $s=2.5\\,\\mathrm{kpc}$ incompleteness is an issue."
   ]
  },
  {
   "cell_type": "code",
   "execution_count": 9,
   "metadata": {},
   "outputs": [
    {
     "data": {
      "text/plain": [
       "Text(0.65, 400.0, 'Thin = 300pc')"
      ]
     },
     "execution_count": 9,
     "metadata": {},
     "output_type": "execute_result"
    },
    {
     "data": {
      "image/png": "[encoded data removed]",
      "text/plain": [
       "<Figure size 720x360 with 1 Axes>"
      ]
     },
     "metadata": {
      "needs_background": "light"
     },
     "output_type": "display_data"
    }
   ],
   "source": [
    "fig = plt.figure(figsize=[10.,5.])\n",
    "xx = np.linspace(0.,2.5)\n",
    "nbins=30\n",
    "plt.hist(1./table['parallax'],range=[0.,3.],bins=nbins,\n",
    "         weights=table['parallax']**2,histtype='step');\n",
    "plt.ylim(0.001*len(table),1.*len(table))\n",
    "\n",
    "thin_disc_scale_height=0.3\n",
    "thick_disc_scale_height=0.9\n",
    "scaling = len(table)/(1.*nbins)\n",
    "\n",
    "plt.plot(xx,24.*scaling*np.exp(-xx/thin_disc_scale_height))\n",
    "plt.plot(xx,2.4*scaling*np.exp(-xx/thick_disc_scale_height))\n",
    "\n",
    "plt.semilogy()\n",
    "plt.xlabel(r'$s/\\,\\mathrm{kpc}$')\n",
    "plt.ylabel(r'Count per bin')\n",
    "plt.annotate('Thick = 900pc', xy=(2.,.3*scaling),fontsize=20)\n",
    "plt.annotate('Thin = 300pc', xy=(.65,4.*scaling),fontsize=20)"
   ]
  },
  {
   "cell_type": "markdown",
   "metadata": {},
   "source": [
    "We have confirmed the Gilmore-Reid result for the thin-thick vertical structure of the disc (not quite as we were looking at the North Galactic Pole). The original result used photometric distances so it is not trivial to reproduce this result. Other things to do would be\n",
    "\n",
    "1. Look at different samples (other main sequence cuts, giants, etc. -- see Bovy 2017 TGAS paper),\n",
    "\n",
    "2. Look away from North Pole (can we map the full density field in parallaxes? -- reproducing Juric et al. 2008 but over whole sky)\n",
    "\n",
    "3. Look at perturbations relative to the smooth model (see Bennett and Bovy, 2018)."
   ]
  },
  {
   "cell_type": "markdown",
   "metadata": {},
   "source": [
    "## Joining with other tables\n",
    "In addition to data in the Gaia DR2 source table, we might require additional data. Here we will grab results from the variability catalogue."
   ]
  },
  {
   "cell_type": "code",
   "execution_count": 10,
   "metadata": {},
   "outputs": [
    {
     "name": "stdout",
     "output_type": "stream",
     "text": [
      "Query finished.\n"
     ]
    },
    {
     "data": {
      "image/png": "[encoded data removed]",
      "text/plain": [
       "<Figure size 432x288 with 1 Axes>"
      ]
     },
     "metadata": {
      "needs_background": "light"
     },
     "output_type": "display_data"
    }
   ],
   "source": [
    "from astroquery.gaia import Gaia\n",
    "job = Gaia.launch_job_async(\n",
    "    \"\"\"select top 1000 power(10.,-0.4*(phot_g_mean_mag-5.*log10(100./parallax))) as lum, pf as period \"\"\"\n",
    "    \"\"\"from gaiadr2.gaia_source as G, gaiadr2.vari_cepheid as V where G.source_id=V.source_id \"\"\"\n",
    "    \"\"\"and parallax_over_error>2.\"\"\"\n",
    ")\n",
    "table3 = job.get_results();\n",
    "plt.plot(table3['period'],table3['lum'],'.')\n",
    "plt.semilogy()\n",
    "plt.semilogx()\n",
    "plt.xlabel('Period/day')\n",
    "plt.ylabel('Luminosity/arb. units');"
   ]
  },
  {
   "cell_type": "markdown",
   "metadata": {},
   "source": [
    "## Computing aggregate quantities"
   ]
  },
  {
   "cell_type": "markdown",
   "metadata": {},
   "source": [
    "We can also compute aggregate quantities. Here we compute the mean, standard deviation (implemented specifically for the Gaia TAP+ service) and count for stars within 0.1 deg of the NGP."
   ]
  },
  {
   "cell_type": "code",
   "execution_count": 11,
   "metadata": {},
   "outputs": [
    {
     "name": "stdout",
     "output_type": "stream",
     "text": [
      "Query finished.\n",
      "       avg               stddev       count_all\n",
      "------------------ ------------------ ---------\n",
      "1.3012299208805478 0.6671705337696868        68\n"
     ]
    }
   ],
   "source": [
    "from astroquery.gaia import Gaia\n",
    "job = Gaia.launch_job_async(\n",
    "    \"\"\"select avg(bp_rp), stddev(bp_rp), count(*) \"\"\"\n",
    "    \"\"\"from gaiadr2.gaia_source \"\"\"\n",
    "    \"\"\"where 1=CONTAINS(POINT('ICRS',ra,dec),CIRCLE('ICRS',192.85947789, 27.12825241,0.1))\"\"\")\n",
    "table3 = job.get_results();\n",
    "print(table3)"
   ]
  },
  {
   "cell_type": "markdown",
   "metadata": {},
   "source": [
    "We can also compute averages binned by another column."
   ]
  },
  {
   "cell_type": "code",
   "execution_count": 12,
   "metadata": {},
   "outputs": [
    {
     "name": "stdout",
     "output_type": "stream",
     "text": [
      "Query finished.\n",
      "     mean_bprp            meanpmra           std_pmra      count_all bin \n",
      "------------------- ------------------- ------------------ --------- ----\n",
      " 0.2925529479980469  0.9967250993514118                 --         1  1.0\n",
      "0.39504661560058596 -1.0437391618924852    1.3985565936889         5  2.0\n",
      " 0.6297840118408203  -9.720657922224543 13.901853618271293         5  3.0\n",
      " 0.8187069459394976  -5.403940264957905  9.735770728648967        11  4.0\n",
      " 1.0233988080705916  -4.155133222253669  8.532296573983963         7  5.0\n",
      " 1.2054602305094402 -17.024689929693437 3.9024275474255505         3  6.0\n",
      " 1.4590363502502441 -12.840884089086014 16.691582183256596         4  7.0\n",
      " 1.6041273389543806  -5.568259282869979  7.946967494249695         7  8.0\n",
      " 1.8112707138061523  4.0610378898025985  7.313314913581323         2  9.0\n",
      " 1.9614383697509765 -14.223314508195571  17.11847421314836         5 10.0\n",
      "  2.191007614135742    4.63094220935661  4.932914063852677         2 11.0\n",
      " 2.4071226119995117 -11.468381741555222  7.447031720971797         2 12.0\n",
      "  2.539379119873047   6.870534525327603  6.545338752799496         2 13.0\n",
      "  2.749445915222168   5.748151886686594  5.572400805195707         2 14.0\n",
      "                 -- -14.871813449918099                 --        10   --\n"
     ]
    }
   ],
   "source": [
    "from astroquery.gaia import Gaia\n",
    "job = Gaia.launch_job_async(\n",
    "    \"\"\"select avg(bp_rp) as mean_bprp, avg(pmra) as meanpmra, \"\"\"\n",
    "    \"\"\"stddev(pmra) as std_pmra, count(*), round(bp_rp*5) as bin \"\"\"\n",
    "    \"\"\"from gaiadr2.gaia_source \"\"\"\n",
    "    \"\"\"where 1=CONTAINS(POINT('ICRS',ra,dec),CIRCLE('ICRS',192.85947789, 27.12825241,0.1)) \"\"\"\n",
    "    \"\"\"group by bin order by bin\"\"\"\n",
    ")\n",
    "table3 = job.get_results();\n",
    "print(table3)"
   ]
  },
  {
   "cell_type": "markdown",
   "metadata": {},
   "source": [
    "## Using Vizier"
   ]
  },
  {
   "cell_type": "markdown",
   "metadata": {},
   "source": [
    "We can also use the TAP Vizier service. This is useful for cross-matching to other catalogues. Although, there are many cross-matches available in the Gaia arcive anyway."
   ]
  },
  {
   "cell_type": "code",
   "execution_count": 13,
   "metadata": {},
   "outputs": [
    {
     "name": "stdout",
     "output_type": "stream",
     "text": [
      "Created TAP+ (v1.0.1) - Connection:\n",
      "\tHost: TAPVizieR.u-strasbg.fr\n",
      "\tUse HTTPS: False\n",
      "\tPort: 80\n",
      "\tSSL Port: 443\n",
      "Retrieving tables...\n",
      "Parsing tables...\n",
      "Done.\n"
     ]
    }
   ],
   "source": [
    "from astroquery.utils.tap.core import TapPlus\n",
    "tap = TapPlus(url=\"http://TAPVizieR.u-strasbg.fr/TAPVizieR/tap\")\n",
    "tables = tap.load_tables()"
   ]
  },
  {
   "cell_type": "markdown",
   "metadata": {},
   "source": [
    "We have to find the name of the Gaia DR2 table in the Vizier database."
   ]
  },
  {
   "cell_type": "code",
   "execution_count": 14,
   "metadata": {},
   "outputs": [
    {
     "name": "stdout",
     "output_type": "stream",
     "text": [
      "\"J/A+A/608/A148/origaia\"\n",
      "\"I/337/gaia\"\n",
      "\"I/345/gaia2\"\n",
      "\"I/347/gaia2dis\"\n"
     ]
    }
   ],
   "source": [
    "for t in tables:\n",
    "    if 'gaia' in t.name:\n",
    "        print(t.name)"
   ]
  },
  {
   "cell_type": "markdown",
   "metadata": {},
   "source": [
    "We now cross-match to LAMOST find Gaia stars within 1 arcsec (1/3600=0.00027777) of each LAMOST star."
   ]
  },
  {
   "cell_type": "code",
   "execution_count": 21,
   "metadata": {},
   "outputs": [
    {
     "name": "stdout",
     "output_type": "stream",
     "text": [
      "Query finished.\n",
      "        designation                ra       ra_error ... AssocData FileName\n",
      "                                  deg         mas    ...                   \n",
      "---------------------------- -------------- -------- ... --------- --------\n",
      "Gaia DR2 3452892198312193152 93.94713989337   0.2115 ...      fits     fits\n",
      "Gaia DR2 3452892198312193152 93.94713989337   0.2115 ...      fits     fits\n",
      "Gaia DR2 3452892335751157504 93.90288808031   0.0323 ...      fits     fits\n",
      "Gaia DR2 3452892438830368896 93.90882703471   0.0753 ...      fits     fits\n",
      "Gaia DR2 3452892507549841920  93.9066007639   0.0324 ...      fits     fits\n",
      "Gaia DR2 3452892679348521344  93.9447211398    0.056 ...      fits     fits\n",
      "Gaia DR2 3452892679348521344  93.9447211398    0.056 ...      fits     fits\n",
      "Gaia DR2 3452892778131053568 93.96622552691    0.039 ...      fits     fits\n",
      "Gaia DR2 3452892954226422784 93.93449688216   0.0272 ...      fits     fits\n",
      "Gaia DR2 3452893087375393536 93.95917993182   0.0243 ...      fits     fits\n"
     ]
    }
   ],
   "source": [
    "job = tap.launch_job_async('select top 10 * from \"I/345/gaia2\" as gaia, '+\n",
    "                           '\"V/153/dr4\" as lamost '+\n",
    "                          \"where 1=CONTAINS(POINT('ICRS',gaia.ra,gaia.dec),\"+\n",
    "                                           \"CIRCLE('ICRS',lamost.raj2000,lamost.dej2000,0.00027777))\")\n",
    "tableV = job.get_results();\n",
    "print(tableV)"
   ]
  },
  {
   "cell_type": "code",
   "execution_count": 22,
   "metadata": {},
   "outputs": [
    {
     "data": {
      "text/html": [
       "<i>Table masked=True length=10</i>\n",
       "<table id=\"table112342464328\" class=\"table-striped table-bordered table-condensed\">\n",
       "<thead><tr><th>ObsID</th><th>RAJ2000</th><th>ra</th></tr></thead>\n",
       "<thead><tr><th></th><th>deg</th><th>deg</th></tr></thead>\n",
       "<thead><tr><th>int32</th><th>float64</th><th>float64</th></tr></thead>\n",
       "<tr><td>220504047</td><td>93.947134</td><td>93.94713989337</td></tr>\n",
       "<tr><td>265104047</td><td>93.947134</td><td>93.94713989337</td></tr>\n",
       "<tr><td>204804024</td><td>93.902888</td><td>93.90288808031</td></tr>\n",
       "<tr><td>185904047</td><td>93.90881</td><td>93.90882703471</td></tr>\n",
       "<tr><td>385304047</td><td>93.90658</td><td>93.9066007639</td></tr>\n",
       "<tr><td>165104047</td><td>93.944752</td><td>93.9447211398</td></tr>\n",
       "<tr><td>177304047</td><td>93.944756</td><td>93.9447211398</td></tr>\n",
       "<tr><td>204804047</td><td>93.96622</td><td>93.96622552691</td></tr>\n",
       "<tr><td>204904030</td><td>93.934479</td><td>93.93449688216</td></tr>\n",
       "<tr><td>177304038</td><td>93.959324</td><td>93.95917993182</td></tr>\n",
       "</table>"
      ],
      "text/plain": [
       "<Table masked=True length=10>\n",
       "  ObsID    RAJ2000        ra      \n",
       "             deg         deg      \n",
       "  int32    float64     float64    \n",
       "--------- --------- --------------\n",
       "220504047 93.947134 93.94713989337\n",
       "265104047 93.947134 93.94713989337\n",
       "204804024 93.902888 93.90288808031\n",
       "185904047  93.90881 93.90882703471\n",
       "385304047  93.90658  93.9066007639\n",
       "165104047 93.944752  93.9447211398\n",
       "177304047 93.944756  93.9447211398\n",
       "204804047  93.96622 93.96622552691\n",
       "204904030 93.934479 93.93449688216\n",
       "177304038 93.959324 93.95917993182"
      ]
     },
     "execution_count": 22,
     "metadata": {},
     "output_type": "execute_result"
    }
   ],
   "source": [
    "tableV[['ObsID','RAJ2000','ra']]"
   ]
  },
  {
   "cell_type": "markdown",
   "metadata": {},
   "source": [
    "## Gaia RVS selection function"
   ]
  },
  {
   "cell_type": "markdown",
   "metadata": {},
   "source": [
    "One other unique function provided in the Gaia archive is gaia_healpix_index which gives the healpix number of each Gaia source. Healpix are a method of dividing up the sphere into equal area pixels. This is useful as we can bin the catalogue by Healpix. In the following we count all sources in bins of G and healpix for a small region on the sky. "
   ]
  },
  {
   "cell_type": "code",
   "execution_count": 27,
   "metadata": {},
   "outputs": [
    {
     "name": "stdout",
     "output_type": "stream",
     "text": [
      "Query finished.\n",
      " g  \n",
      "----\n",
      " 7.0\n",
      " 7.5\n",
      " 8.0\n",
      " 8.5\n",
      " 9.0\n",
      " 9.5\n",
      "10.0\n",
      "10.5\n",
      "11.0\n",
      "11.5\n",
      "12.0\n",
      "12.5\n",
      "13.0\n",
      "13.5\n",
      "14.0\n",
      "14.5\n",
      "15.0\n",
      "15.5\n",
      "16.0\n",
      "16.5\n",
      "17.0\n"
     ]
    }
   ],
   "source": [
    "from astroquery.gaia import Gaia\n",
    "job = Gaia.launch_job_async(\n",
    "    \"\"\"select gaia_healpix_index(8, source_id) AS hpx8, count(*), round(phot_g_mean_mag*2.)/2 as G \"\"\"\n",
    "    \"\"\"from gaiadr2.gaia_source \"\"\"\n",
    "    \"\"\"where 1=CONTAINS(POINT('ICRS',ra,dec),CIRCLE('ICRS',50,50, 1.)) \"\"\"\n",
    "    \"\"\" and phot_g_mean_mag>6. and phot_g_mean_mag<17. \"\"\"\n",
    "    \"\"\"group by hpx8, G order by G\"\"\"\n",
    ")\n",
    "table3 = job.get_results();\n",
    "table3['gbin']=np.digitize(table3['g'],np.arange(6.,17.,0.5))\n",
    "print(np.unique(table3['g']))"
   ]
  },
  {
   "cell_type": "markdown",
   "metadata": {},
   "source": [
    "We plot with healpy."
   ]
  },
  {
   "cell_type": "code",
   "execution_count": 28,
   "metadata": {},
   "outputs": [
    {
     "data": {
      "image/png": "[encoded data removed]",
      "text/plain": [
       "<Figure size 612x388.8 with 2 Axes>"
      ]
     },
     "metadata": {
      "needs_background": "light"
     },
     "output_type": "display_data"
    }
   ],
   "source": [
    "import healpy as hp\n",
    "NSIDE = 256\n",
    "Gbin=20\n",
    "H = np.ones(hp.nside2npix(NSIDE))*np.nan\n",
    "H[table3['hpx8'][table3['gbin']==Gbin]]=table3['count_all'][table3['gbin']==Gbin]\n",
    "hp.mollview(H,nest=True,coord='G')"
   ]
  },
  {
   "cell_type": "markdown",
   "metadata": {},
   "source": [
    "We perform the same calculation for those stars with radial velocities."
   ]
  },
  {
   "cell_type": "code",
   "execution_count": 35,
   "metadata": {},
   "outputs": [
    {
     "name": "stdout",
     "output_type": "stream",
     "text": [
      "Query finished.\n"
     ]
    }
   ],
   "source": [
    "from astroquery.gaia import Gaia\n",
    "job = Gaia.launch_job_async(\n",
    "    \"\"\"select gaia_healpix_index(8, source_id) AS hpx8, count(*), round(phot_g_mean_mag*2.)/2 as G \"\"\"\n",
    "    \"\"\"from gaiadr2.gaia_source \"\"\"\n",
    "    \"\"\"where 1=CONTAINS(POINT('ICRS',ra,dec),CIRCLE('ICRS',50,50, 1.)) \"\"\"\n",
    "    \"\"\" and phot_g_mean_mag>6. and phot_g_mean_mag<17. and radial_velocity>-1000 \"\"\"\n",
    "    \"\"\"group by hpx8, G order by G\"\"\"\n",
    ")\n",
    "table3_RV = job.get_results();\n",
    "table3_RV['gbin']=np.digitize(table3_RV['g'],np.arange(6.,17.,0.5))"
   ]
  },
  {
   "cell_type": "markdown",
   "metadata": {},
   "source": [
    "Plotting the ratio we see the approx. selection function of the RVS in this part of the sky. Approx. complete up to G=13 mag."
   ]
  },
  {
   "cell_type": "code",
   "execution_count": 40,
   "metadata": {},
   "outputs": [
    {
     "data": {
      "image/png": "[encoded data removed]",
      "text/plain": [
       "<Figure size 432x288 with 1 Axes>"
      ]
     },
     "metadata": {
      "needs_background": "light"
     },
     "output_type": "display_data"
    }
   ],
   "source": [
    "plt.hist(table3['g'],range=[6.,15.],bins=18,histtype='step',label='All')\n",
    "plt.hist(table3_RV['g'],range=[6.,15.],bins=18,histtype='step',label='RVS')\n",
    "plt.ylim(0.,80.)\n",
    "plt.xlabel(r'$G$')\n",
    "plt.legend(loc='upper left',fontsize=20);"
   ]
  },
  {
   "cell_type": "code",
   "execution_count": 41,
   "metadata": {},
   "outputs": [
    {
     "data": {
      "text/plain": [
       "Text(0, 0.5, 'Ratio RVS/All')"
      ]
     },
     "execution_count": 41,
     "metadata": {},
     "output_type": "execute_result"
    },
    {
     "data": {
      "image/png": "[encoded data removed]",
      "text/plain": [
       "<Figure size 432x288 with 1 Axes>"
      ]
     },
     "metadata": {
      "needs_background": "light"
     },
     "output_type": "display_data"
    }
   ],
   "source": [
    "nn,bb = np.histogram(table3['g'],range=[6.,15.],bins=18)\n",
    "nn2,bb = np.histogram(table3_RV['g'],bins=bb)\n",
    "plt.plot(.5*(bb[1:]+bb[:-1]),nn2/nn)\n",
    "\n",
    "plt.xlabel(r'$G$')\n",
    "plt.ylabel(r'Ratio RVS/All')"
   ]
  },
  {
   "cell_type": "markdown",
   "metadata": {},
   "source": [
    "# Other methods"
   ]
  },
  {
   "cell_type": "markdown",
   "metadata": {},
   "source": [
    "## Reading downloaded VOT\n",
    "Go to Gaia Archive (https://gea.esac.esa.int/archive/), query database, download vot (or other formats) and read in with astropy"
   ]
  },
  {
   "cell_type": "code",
   "execution_count": null,
   "metadata": {},
   "outputs": [],
   "source": [
    "from astropy.table import Table\n",
    "t = Table.read('/Users/jls/Downloads/1548744700623O-result.vot')\n",
    "print(t)"
   ]
  },
  {
   "cell_type": "markdown",
   "metadata": {},
   "source": [
    "## Use TOPCAT\n",
    "Download http://www.star.bris.ac.uk/~mbt/topcat/, query TAP services, etc."
   ]
  },
  {
   "cell_type": "code",
   "execution_count": 63,
   "metadata": {},
   "outputs": [
    {
     "name": "stdout",
     "output_type": "stream",
     "text": [
      "<SkyCoord (ICRS): (ra, dec) in deg\n",
      "    (66.725, 15.86666667)>\n"
     ]
    }
   ],
   "source": [
    "from astroquery.simbad import Simbad\n",
    "result_table = Simbad.query_object(\"Hyades\")\n",
    "print(SkyCoord(ra='{}h{}m{}s'.format(*result_table['RA'][0].split(' ')), \n",
    "                  dec='{}d{}m{}s'.format(*result_table['DEC'][0].split(' '))))"
   ]
  }
 ],
 "metadata": {
  "kernelspec": {
   "display_name": "Python 3",
   "language": "python",
   "name": "python3"
  },
  "language_info": {
   "codemirror_mode": {
    "name": "ipython",
    "version": 3
   },
   "file_extension": ".py",
   "mimetype": "text/x-python",
   "name": "python",
   "nbconvert_exporter": "python",
   "pygments_lexer": "ipython3",
   "version": "3.7.1"
  },
  "latex_metadata": {
   "affiliation": "Institute of Astronomy, Cambridge",
   "author": "Jason L. Sanders",
   "title": "Tutorial 1"
  }
 },
 "nbformat": 4,
 "nbformat_minor": 2
}
