{
 "cells": [
  {
   "cell_type": "markdown",
   "metadata": {},
   "source": [
    "# Tutorial 1: The vertical density profile"
   ]
  },
  {
   "cell_type": "code",
   "execution_count": 1,
   "metadata": {},
   "outputs": [],
   "source": [
    "import numpy as np\n",
    "import matplotlib.pyplot as plt\n",
    "import seaborn as sns\n",
    "import warnings\n",
    "warnings.filterwarnings('ignore')\n",
    "\n",
    "%matplotlib inline"
   ]
  },
  {
   "cell_type": "markdown",
   "metadata": {},
   "source": [
    "In this tutorial we will inspect the vertical density profile of the Milky Way. This will illustrate basic access of the Gaia data.\n",
    "\n",
    "We use the TAP functionality in astroquery to collect Gaia DR2 data. This runs an ADQL query remotely and retrieves the data -- ADQL is like SQL with added functions to specifically querying astronomical datasets). You will get lots of warnings as astropy doesn't like the units used by Gaia -- I have switched these off with the warnings package. This query gets the top 100 stars with positive parallaxes and parallax/parallax_error>3. You can replace the ADQL query with your own ADQL query (see \\href{https://gea.esac.esa.int/archive-help/adql/examples/index.html}{https://gea.esac.esa.int/archive-help/adql/examples/index.html} for some examples of Gaia ADQL queries.\n",
    "\n",
    "To get the names of the columns, we have to look here https://gea.esac.esa.int/archive/documentation/GDR2/Gaia_archive/chap_datamodel/"
   ]
  },
  {
   "cell_type": "code",
   "execution_count": 2,
   "metadata": {},
   "outputs": [
    {
     "name": "stdout",
     "output_type": "stream",
     "text": [
      "Created TAP+ (v1.0.1) - Connection:\n",
      "\tHost: gea.esac.esa.int\n",
      "\tUse HTTPS: False\n",
      "\tPort: 80\n",
      "\tSSL Port: 443\n",
      "Query finished.\n",
      "    solution_id             designation          ... epoch_photometry_url\n",
      "                                                 ...                     \n",
      "------------------- ---------------------------- ... --------------------\n",
      "1635721458409799680 Gaia DR2 4918097648274495232 ...                   --\n",
      "1635721458409799680 Gaia DR2 4917739271907207808 ...                   --\n",
      "1635721458409799680 Gaia DR2 4918122520428945152 ...                   --\n",
      "1635721458409799680 Gaia DR2 4917647810580457088 ...                   --\n",
      "1635721458409799680 Gaia DR2 4918005358017184640 ...                   --\n",
      "1635721458409799680 Gaia DR2 4917927911167389568 ...                   --\n",
      "1635721458409799680 Gaia DR2 4917945468993221248 ...                   --\n",
      "1635721458409799680 Gaia DR2 6683370266818726656 ...                   --\n",
      "1635721458409799680 Gaia DR2 6683395796104579584 ...                   --\n",
      "1635721458409799680 Gaia DR2 6683442113032077056 ...                   --\n",
      "                ...                          ... ...                  ...\n",
      "1635721458409799680 Gaia DR2 5040960371801363456 ...                   --\n",
      "1635721458409799680 Gaia DR2 5041251226986310016 ...                   --\n",
      "1635721458409799680 Gaia DR2 5041279505051422976 ...                   --\n",
      "1635721458409799680 Gaia DR2 5041180033608649600 ...                   --\n",
      "1635721458409799680 Gaia DR2 1977874809671653120 ...                   --\n",
      "1635721458409799680 Gaia DR2 4090282078290887040 ...                   --\n",
      "1635721458409799680 Gaia DR2 4090282005267633408 ...                   --\n",
      "1635721458409799680 Gaia DR2 2092048543773473280 ...                   --\n",
      "1635721458409799680 Gaia DR2 2091982671854169856 ...                   --\n",
      "1635721458409799680 Gaia DR2 2092029680276575616 ...                   --\n",
      "Length = 100 rows\n"
     ]
    }
   ],
   "source": [
    "from astroquery.gaia import Gaia\n",
    "job = Gaia.launch_job_async(\n",
    "    \"select top 100 * from gaiadr2.gaia_source \"+\n",
    "    \"where parallax>0 and parallax_over_error>3. \") # Select `good' parallaxes\n",
    "\n",
    "table = job.get_results()\n",
    "print(table)"
   ]
  },
  {
   "cell_type": "code",
   "execution_count": 3,
   "metadata": {},
   "outputs": [
    {
     "name": "stdout",
     "output_type": "stream",
     "text": [
      "['solution_id', 'designation', 'source_id', 'random_index', 'ref_epoch', 'ra', 'ra_error', 'dec', 'dec_error', 'parallax', 'parallax_error', 'parallax_over_error', 'pmra', 'pmra_error', 'pmdec', 'pmdec_error', 'ra_dec_corr', 'ra_parallax_corr', 'ra_pmra_corr', 'ra_pmdec_corr', 'dec_parallax_corr', 'dec_pmra_corr', 'dec_pmdec_corr', 'parallax_pmra_corr', 'parallax_pmdec_corr', 'pmra_pmdec_corr', 'astrometric_n_obs_al', 'astrometric_n_obs_ac', 'astrometric_n_good_obs_al', 'astrometric_n_bad_obs_al', 'astrometric_gof_al', 'astrometric_chi2_al', 'astrometric_excess_noise', 'astrometric_excess_noise_sig', 'astrometric_params_solved', 'astrometric_primary_flag', 'astrometric_weight_al', 'astrometric_pseudo_colour', 'astrometric_pseudo_colour_error', 'mean_varpi_factor_al', 'astrometric_matched_observations', 'visibility_periods_used', 'astrometric_sigma5d_max', 'frame_rotator_object_type', 'matched_observations', 'duplicated_source', 'phot_g_n_obs', 'phot_g_mean_flux', 'phot_g_mean_flux_error', 'phot_g_mean_flux_over_error', 'phot_g_mean_mag', 'phot_bp_n_obs', 'phot_bp_mean_flux', 'phot_bp_mean_flux_error', 'phot_bp_mean_flux_over_error', 'phot_bp_mean_mag', 'phot_rp_n_obs', 'phot_rp_mean_flux', 'phot_rp_mean_flux_error', 'phot_rp_mean_flux_over_error', 'phot_rp_mean_mag', 'phot_bp_rp_excess_factor', 'phot_proc_mode', 'bp_rp', 'bp_g', 'g_rp', 'radial_velocity', 'radial_velocity_error', 'rv_nb_transits', 'rv_template_teff', 'rv_template_logg', 'rv_template_fe_h', 'phot_variable_flag', 'l', 'b', 'ecl_lon', 'ecl_lat', 'priam_flags', 'teff_val', 'teff_percentile_lower', 'teff_percentile_upper', 'a_g_val', 'a_g_percentile_lower', 'a_g_percentile_upper', 'e_bp_min_rp_val', 'e_bp_min_rp_percentile_lower', 'e_bp_min_rp_percentile_upper', 'flame_flags', 'radius_val', 'radius_percentile_lower', 'radius_percentile_upper', 'lum_val', 'lum_percentile_lower', 'lum_percentile_upper', 'datalink_url', 'epoch_photometry_url']\n"
     ]
    }
   ],
   "source": [
    "print(table.colnames)"
   ]
  },
  {
   "cell_type": "markdown",
   "metadata": {},
   "source": [
    "We can access individual columns like this. Note the units."
   ]
  },
  {
   "cell_type": "code",
   "execution_count": 4,
   "metadata": {},
   "outputs": [
    {
     "name": "stdout",
     "output_type": "stream",
     "text": [
      "        pmra       \n",
      "      mas / yr     \n",
      "-------------------\n",
      "-4.6941335793129895\n",
      "  0.658964757014354\n",
      "  9.345594944921816\n",
      " 30.304557672810176\n",
      " 12.931525689919681\n",
      "  30.59712862858142\n",
      "  3.345527098756507\n",
      "-0.7851807922221252\n",
      "  6.935896681096559\n",
      " -4.655488202353315\n",
      "                ...\n",
      " -1.987250904276051\n",
      "  7.389922975948233\n",
      "  32.72382063517125\n",
      " -6.788283763279843\n",
      " -4.686360036756701\n",
      " -2.913297957272082\n",
      " 0.9979362894872922\n",
      " -5.918008814146078\n",
      " 1.2858349469844021\n",
      "-1.1818414171791185\n",
      "Length = 100 rows\n"
     ]
    }
   ],
   "source": [
    "print(table['pmra'])"
   ]
  },
  {
   "cell_type": "markdown",
   "metadata": {},
   "source": [
    "We will now query some main sequence stars around the North Galactic Pole (Galactic latitude greater than $85\\,\\mathrm{deg}$). \n",
    "The ADQL language implements various mathematical functions. Here we are using log10. We require good parallaxes (not negative and with small errors -- this might bias our sample in funny ways but for now it is good enough). We select a small range in colours $0.65<(G_\\mathrm{BP}-G_\\mathrm{RP})<0.85$ and ensure they are main sequence by cutting on absolute magnitude. We don't worry about extinction as this effect is small when looking straight out of the disc."
   ]
  },
  {
   "cell_type": "code",
   "execution_count": 5,
   "metadata": {},
   "outputs": [
    {
     "name": "stdout",
     "output_type": "stream",
     "text": [
      "Query finished.\n"
     ]
    }
   ],
   "source": [
    "from astroquery.gaia import Gaia\n",
    "job = Gaia.launch_job_async(\n",
    "    \"\"\"select top 3000 phot_g_mean_mag,parallax \"\"\"\n",
    "    \"\"\"from gaiadr2.gaia_source \"\"\"\n",
    "    \"\"\"where b>85. \"\"\"                              # Around North Galactic Pole\n",
    "    \"\"\"and parallax>0 and parallax_over_error>3. \"\"\"# Select `good' parallaxes\n",
    "    \"\"\"and bp_rp>0.65 and bp_rp<0.85 \"\"\"    # Select upper main sequence colours\n",
    "    \"\"\"and phot_g_mean_mag-5*log10(100./parallax) < 6.\"\"\") # Remove giant contaminants\n",
    "\n",
    "table = job.get_results();"
   ]
  },
  {
   "cell_type": "markdown",
   "metadata": {},
   "source": [
    "Another way to do this is using the ADQL built-in geometric functions. POINT is a function describing a point on the sky and BOX, POLYGON, CIRCLE are all functions that describe a region on the sky. Typically they are used in conjunction with CONTAINS. This will return True (1) is POINT is CONTAINed in CIRCLE. In theory these should work with Galactic coordinates but I can't get this to work. We therefore require the coordinates of the NGP, using astropy. In theory, using ra, dec is faster as the Gaia archive has been indexed on these entries."
   ]
  },
  {
   "cell_type": "code",
   "execution_count": 6,
   "metadata": {},
   "outputs": [
    {
     "data": {
      "text/plain": [
       "<SkyCoord (ICRS): (ra, dec) in deg\n",
       "    (192.85947789, 27.12825241)>"
      ]
     },
     "execution_count": 6,
     "metadata": {},
     "output_type": "execute_result"
    }
   ],
   "source": [
    "from astropy.coordinates import SkyCoord, ICRS\n",
    "import astropy.units as u\n",
    "SkyCoord(l=300.*u.deg,b=90.*u.deg,frame='galactic').transform_to(ICRS)"
   ]
  },
  {
   "cell_type": "markdown",
   "metadata": {},
   "source": [
    "We then write the above query as "
   ]
  },
  {
   "cell_type": "code",
   "execution_count": 7,
   "metadata": {},
   "outputs": [
    {
     "name": "stdout",
     "output_type": "stream",
     "text": [
      "Query finished.\n"
     ]
    }
   ],
   "source": [
    "from astroquery.gaia import Gaia\n",
    "job = Gaia.launch_job_async(\n",
    "    \"\"\"select top 3000 phot_g_mean_mag,parallax \"\"\"\n",
    "    \"\"\"from gaiadr2.gaia_source \"\"\"\n",
    "    \"\"\"where 1=CONTAINS(POINT('ICRS',ra,dec),CIRCLE('ICRS',192.85947789, 27.12825241,5)) \"\"\" # Around North Galactic Pole\n",
    "    \"\"\"and parallax>0 and parallax_over_error>3. \"\"\"# Select `good' parallaxes\n",
    "    \"\"\"and bp_rp>0.65 and bp_rp<0.85 \"\"\"    # Select upper main sequence colours\n",
    "    \"\"\"and phot_g_mean_mag-5*log10(100./parallax) < 6.\"\"\") # Remove giant contaminants\n",
    "\n",
    "table2 = job.get_results();"
   ]
  },
  {
   "cell_type": "code",
   "execution_count": 8,
   "metadata": {},
   "outputs": [
    {
     "data": {
      "image/png": "[encoded data removed]",
      "text/plain": [
       "<Figure size 432x288 with 1 Axes>"
      ]
     },
     "metadata": {
      "needs_background": "light"
     },
     "output_type": "display_data"
    }
   ],
   "source": [
    "plt.hist(table2['phot_g_mean_mag'],histtype='step',lw=3,bins=50);\n",
    "plt.hist(table['phot_g_mean_mag'],histtype='step',lw=3,bins=50,ls='dashed');"
   ]
  },
  {
   "cell_type": "markdown",
   "metadata": {},
   "source": [
    "We have to worry about completeness. Gaia only observes down to a limiting magnitude. We can see in the magnitude distribution a truncation at around $16.3\\,\\mathrm{mag}$. For our selected main sequence stars (with median magnitude $4.3$) this corresponds to a limiting distance of $2.5\\,\\mathrm{kpc}$."
   ]
  },
  {
   "cell_type": "code",
   "execution_count": 9,
   "metadata": {},
   "outputs": [
    {
     "name": "stdout",
     "output_type": "stream",
     "text": [
      "Limiting mag= 16.3 mag\n",
      "Median absolute mag= 4.2873335323882 mag\n",
      "Limiting distance= 2.5265813933891805 kpc\n"
     ]
    },
    {
     "data": {
      "image/png": "[encoded data removed]",
      "text/plain": [
       "<Figure size 432x288 with 1 Axes>"
      ]
     },
     "metadata": {
      "needs_background": "light"
     },
     "output_type": "display_data"
    }
   ],
   "source": [
    "limiting_mag = 16.3 #\n",
    "plt.axvline(limiting_mag,color='k')\n",
    "plt.hist(table['phot_g_mean_mag'],range=[10.,18.],bins=20)\n",
    "plt.xlabel(r'$G/\\,\\mathrm{mag}$')\n",
    "\n",
    "\n",
    "Mv = np.median(table['phot_g_mean_mag']-5.*np.log10(100./table['parallax']))\n",
    "limiting_distance = 10.**(0.2*(-Mv+limiting_mag)-2.)\n",
    "print('Limiting mag=',limiting_mag,'mag')\n",
    "print('Median absolute mag=',Mv,'mag')\n",
    "print('Limiting distance=',limiting_distance,'kpc')"
   ]
  },
  {
   "cell_type": "markdown",
   "metadata": {},
   "source": [
    "We have taken a sample in a cone. As such, there is a larger volume over which we observe distant stars than the volume over which we observe nearby stars. To compute the density with Galactic height we require a Jacobian factor. we denote distance $s$ and parallax $\\varpi$.\n",
    "\n",
    "$n(s) = s^2\\rho(s)$\n",
    "\n",
    "so $\\rho(s) = \\varpi^2 n(1/\\varpi)$.\n",
    "\n",
    "We have overplotted the classical thin/thick disc scaleheight exponentials. Note how beyond $s=2.5\\,\\mathrm{kpc}$ incompleteness is an issue."
   ]
  },
  {
   "cell_type": "code",
   "execution_count": 10,
   "metadata": {},
   "outputs": [
    {
     "data": {
      "text/plain": [
       "Text(0.65, 400.0, 'Thin = 300pc')"
      ]
     },
     "execution_count": 10,
     "metadata": {},
     "output_type": "execute_result"
    },
    {
     "data": {
      "image/png": "[encoded data removed]",
      "text/plain": [
       "<Figure size 720x360 with 1 Axes>"
      ]
     },
     "metadata": {
      "needs_background": "light"
     },
     "output_type": "display_data"
    }
   ],
   "source": [
    "fig = plt.figure(figsize=[10.,5.])\n",
    "xx = np.linspace(0.,2.5)\n",
    "nbins=30\n",
    "plt.hist(1./table['parallax'],range=[0.,3.],bins=nbins,\n",
    "         weights=table['parallax']**2,histtype='step');\n",
    "plt.ylim(0.001*len(table),1.*len(table))\n",
    "\n",
    "thin_disc_scale_height=0.3\n",
    "thick_disc_scale_height=0.9\n",
    "scaling = len(table)/(1.*nbins)\n",
    "\n",
    "plt.plot(xx,24.*scaling*np.exp(-xx/thin_disc_scale_height))\n",
    "plt.plot(xx,2.4*scaling*np.exp(-xx/thick_disc_scale_height))\n",
    "\n",
    "plt.semilogy()\n",
    "plt.xlabel(r'$s/\\,\\mathrm{kpc}$')\n",
    "plt.ylabel(r'Count per bin')\n",
    "plt.annotate('Thick = 900pc', xy=(2.,.3*scaling),fontsize=20)\n",
    "plt.annotate('Thin = 300pc', xy=(.65,4.*scaling),fontsize=20)"
   ]
  },
  {
   "cell_type": "markdown",
   "metadata": {},
   "source": [
    "We have confirmed the Gilmore-Reid result for the thin-thick vertical structure of the disc (not quite as we were looking at the North Galactic Pole). The original result used photometric distances so it is not trivial to reproduce this result. Other things to do would be\n",
    "\n",
    "1. Look at different samples (other main sequence cuts, giants, etc. -- see Bovy 2017 TGAS paper),\n",
    "\n",
    "2. Look away from North Pole (can we map the full density field in parallaxes? -- reproducing Juric et al. 2008 but over whole sky)\n",
    "\n",
    "3. Look at perturbations relative to the smooth model (see Bennett and Bovy, 2018)."
   ]
  },
  {
   "cell_type": "markdown",
   "metadata": {},
   "source": [
    "## Joining with other tables\n",
    "In addition to data in the Gaia DR2 source table, we might require additional data. Here we will grab results from the variability catalogue."
   ]
  },
  {
   "cell_type": "code",
   "execution_count": 11,
   "metadata": {},
   "outputs": [
    {
     "name": "stdout",
     "output_type": "stream",
     "text": [
      "Query finished.\n"
     ]
    },
    {
     "data": {
      "image/png": "[encoded data removed]",
      "text/plain": [
       "<Figure size 432x288 with 1 Axes>"
      ]
     },
     "metadata": {
      "needs_background": "light"
     },
     "output_type": "display_data"
    }
   ],
   "source": [
    "from astroquery.gaia import Gaia\n",
    "job = Gaia.launch_job_async(\n",
    "    \"\"\"select top 1000 power(10.,-0.4*(phot_g_mean_mag-5.*log10(100./parallax))) as lum, pf as period \"\"\"\n",
    "    \"\"\"from gaiadr2.gaia_source as G, gaiadr2.vari_cepheid as V where G.source_id=V.source_id \"\"\"\n",
    "    \"\"\"and parallax_over_error>2.\"\"\"\n",
    ")\n",
    "table3 = job.get_results();\n",
    "plt.plot(table3['period'],table3['lum'],'.')\n",
    "plt.semilogy()\n",
    "plt.semilogx()\n",
    "plt.xlabel('Period/day')\n",
    "plt.ylabel('Luminosity/arb. units');"
   ]
  },
  {
   "cell_type": "markdown",
   "metadata": {},
   "source": [
    "## Computing aggregate quantities"
   ]
  },
  {
   "cell_type": "markdown",
   "metadata": {},
   "source": [
    "We can also compute aggregate quantities. Here we compute the mean, standard deviation (implemented specifically for the Gaia TAP+ service) and count for stars within 0.1 deg of the NGP."
   ]
  },
  {
   "cell_type": "code",
   "execution_count": 12,
   "metadata": {},
   "outputs": [
    {
     "name": "stdout",
     "output_type": "stream",
     "text": [
      "Query finished.\n",
      "       avg               stddev       count_all\n",
      "------------------ ------------------ ---------\n",
      "1.3012299208805478 0.6671705337696868        68\n"
     ]
    }
   ],
   "source": [
    "from astroquery.gaia import Gaia\n",
    "job = Gaia.launch_job_async(\n",
    "    \"\"\"select avg(bp_rp), stddev(bp_rp), count(*) \"\"\"\n",
    "    \"\"\"from gaiadr2.gaia_source \"\"\"\n",
    "    \"\"\"where 1=CONTAINS(POINT('ICRS',ra,dec),CIRCLE('ICRS',192.85947789, 27.12825241,0.1))\"\"\")\n",
    "table3 = job.get_results();\n",
    "print(table3)"
   ]
  },
  {
   "cell_type": "markdown",
   "metadata": {},
   "source": [
    "We can also compute averages binned by another column."
   ]
  },
  {
   "cell_type": "code",
   "execution_count": 13,
   "metadata": {},
   "outputs": [
    {
     "name": "stdout",
     "output_type": "stream",
     "text": [
      "Query finished.\n",
      "     mean_bprp            meanpmra           std_pmra      count_all bin \n",
      "------------------- ------------------- ------------------ --------- ----\n",
      " 0.2925529479980469  0.9967250993514118                 --         1  1.0\n",
      "0.39504661560058596 -1.0437391618924852    1.3985565936889         5  2.0\n",
      " 0.6297840118408203  -9.720657922224543 13.901853618271293         5  3.0\n",
      " 0.8187069459394976  -5.403940264957905  9.735770728648967        11  4.0\n",
      " 1.0233988080705916  -4.155133222253669  8.532296573983963         7  5.0\n",
      " 1.2054602305094402 -17.024689929693437 3.9024275474255505         3  6.0\n",
      " 1.4590363502502441 -12.840884089086014 16.691582183256596         4  7.0\n",
      " 1.6041273389543806  -5.568259282869979  7.946967494249695         7  8.0\n",
      " 1.8112707138061523  4.0610378898025985  7.313314913581323         2  9.0\n",
      " 1.9614383697509765 -14.223314508195571  17.11847421314836         5 10.0\n",
      "  2.191007614135742    4.63094220935661  4.932914063852677         2 11.0\n",
      " 2.4071226119995117 -11.468381741555222  7.447031720971797         2 12.0\n",
      "  2.539379119873047   6.870534525327603  6.545338752799496         2 13.0\n",
      "  2.749445915222168   5.748151886686594  5.572400805195707         2 14.0\n",
      "                 -- -14.871813449918099                 --        10   --\n"
     ]
    }
   ],
   "source": [
    "from astroquery.gaia import Gaia\n",
    "job = Gaia.launch_job_async(\n",
    "    \"\"\"select avg(bp_rp) as mean_bprp, avg(pmra) as meanpmra, \"\"\"\n",
    "    \"\"\"stddev(pmra) as std_pmra, count(*), round(bp_rp*5) as bin \"\"\"\n",
    "    \"\"\"from gaiadr2.gaia_source \"\"\"\n",
    "    \"\"\"where 1=CONTAINS(POINT('ICRS',ra,dec),CIRCLE('ICRS',192.85947789, 27.12825241,0.1)) \"\"\"\n",
    "    \"\"\"group by bin order by bin\"\"\"\n",
    ")\n",
    "table3 = job.get_results();\n",
    "print(table3)"
   ]
  },
  {
   "cell_type": "markdown",
   "metadata": {},
   "source": [
    "## Using Vizier"
   ]
  },
  {
   "cell_type": "markdown",
   "metadata": {},
   "source": [
    "We can also use the TAP Vizier service. This is useful for cross-matching to other catalogues. Although, there are many cross-matches available in the Gaia arcive anyway."
   ]
  },
  {
   "cell_type": "code",
   "execution_count": 14,
   "metadata": {},
   "outputs": [
    {
     "name": "stdout",
     "output_type": "stream",
     "text": [
      "Created TAP+ (v1.0.1) - Connection:\n",
      "\tHost: TAPVizieR.u-strasbg.fr\n",
      "\tUse HTTPS: False\n",
      "\tPort: 80\n",
      "\tSSL Port: 443\n",
      "Retrieving tables...\n",
      "Parsing tables...\n",
      "Done.\n"
     ]
    }
   ],
   "source": [
    "from astroquery.utils.tap.core import TapPlus\n",
    "tap = TapPlus(url=\"http://TAPVizieR.u-strasbg.fr/TAPVizieR/tap\")\n",
    "tables = tap.load_tables()"
   ]
  },
  {
   "cell_type": "markdown",
   "metadata": {},
   "source": [
    "We have to find the name of the Gaia DR2 table in the Vizier database."
   ]
  },
  {
   "cell_type": "code",
   "execution_count": 15,
   "metadata": {},
   "outputs": [
    {
     "name": "stdout",
     "output_type": "stream",
     "text": [
      "\"J/A+A/608/A148/origaia\"\n",
      "\"I/337/gaia\"\n",
      "\"I/345/gaia2\"\n",
      "\"I/347/gaia2dis\"\n"
     ]
    }
   ],
   "source": [
    "for t in tables:\n",
    "    if 'gaia' in t.name:\n",
    "        print(t.name)"
   ]
  },
  {
   "cell_type": "markdown",
   "metadata": {},
   "source": [
    "We now cross-match to LAMOST find Gaia stars within 1 arcsec (1/3600=0.00027777) of each LAMOST star."
   ]
  },
  {
   "cell_type": "code",
   "execution_count": 16,
   "metadata": {},
   "outputs": [
    {
     "name": "stdout",
     "output_type": "stream",
     "text": [
      "Query finished.\n",
      "     designation             ra       ra_error ...   DE1deg  AssocData FileName\n",
      "                            deg         mas    ...                             \n",
      "---------------------- -------------- -------- ... --------- --------- --------\n",
      "  Gaia DR2 34361129088 45.00431616421   0.1322 ...   0.02097      fits     fits\n",
      "  Gaia DR2 34361129088 45.00431616421   0.1322 ...   0.02097      fits     fits\n",
      " Gaia DR2 549755818112 45.04828219159   0.0358 ...  0.048314      fits     fits\n",
      "Gaia DR2 1275606125952 44.99327098082   0.0612 ...  0.076347      fits     fits\n",
      "Gaia DR2 1340029955712  44.9690763768   0.1227 ... 0.0844669      fits     fits\n",
      "Gaia DR2 1653563247744 44.99606023501   0.0644 ... 0.0849587      fits     fits\n",
      "Gaia DR2 1653563247744 44.99606023501   0.0644 ...   0.08496      fits     fits\n",
      "Gaia DR2 2546916445184 45.05702841559   0.1309 ... 0.1150102      fits     fits\n",
      "Gaia DR2 2546916445184 45.05702841559   0.1309 ... 0.1150102      fits     fits\n",
      "Gaia DR2 2851858288640 45.13214374785   0.0515 ... 0.1377617      fits     fits\n"
     ]
    }
   ],
   "source": [
    "job = tap.launch_job_async('select top 10 * from \"I/345/gaia2\" as gaia, '+\n",
    "                           '\"V/153/dr4\" as lamost '+\n",
    "                          \"where 1=CONTAINS(POINT('ICRS',gaia.ra,gaia.dec),\"+\n",
    "                                           \"CIRCLE('ICRS',lamost.raj2000,lamost.dej2000,0.00027777))\")\n",
    "tableV = job.get_results();\n",
    "print(tableV)"
   ]
  },
  {
   "cell_type": "code",
   "execution_count": 17,
   "metadata": {},
   "outputs": [
    {
     "data": {
      "text/html": [
       "<i>Table masked=True length=10</i>\n",
       "<table id=\"table112306883272\" class=\"table-striped table-bordered table-condensed\">\n",
       "<thead><tr><th>ObsID</th><th>RAJ2000</th><th>ra</th></tr></thead>\n",
       "<thead><tr><th></th><th>deg</th><th>deg</th></tr></thead>\n",
       "<thead><tr><th>int32</th><th>float64</th><th>float64</th></tr></thead>\n",
       "<tr><td>215109</td><td>45.00422</td><td>45.00431616421</td></tr>\n",
       "<tr><td>18112111</td><td>45.00422</td><td>45.00431616421</td></tr>\n",
       "<tr><td>367412199</td><td>45.048267</td><td>45.04828219159</td></tr>\n",
       "<tr><td>18112179</td><td>44.993274</td><td>44.99327098082</td></tr>\n",
       "<tr><td>300702156</td><td>44.9690933</td><td>44.9690763768</td></tr>\n",
       "<tr><td>215101</td><td>44.9960101</td><td>44.99606023501</td></tr>\n",
       "<tr><td>367412179</td><td>44.996028</td><td>44.99606023501</td></tr>\n",
       "<tr><td>252907206</td><td>45.0569813</td><td>45.05702841559</td></tr>\n",
       "<tr><td>300702174</td><td>45.0569813</td><td>45.05702841559</td></tr>\n",
       "<tr><td>300002179</td><td>45.1321253</td><td>45.13214374785</td></tr>\n",
       "</table>"
      ],
      "text/plain": [
       "<Table masked=True length=10>\n",
       "  ObsID    RAJ2000         ra      \n",
       "             deg          deg      \n",
       "  int32    float64      float64    \n",
       "--------- ---------- --------------\n",
       "   215109   45.00422 45.00431616421\n",
       " 18112111   45.00422 45.00431616421\n",
       "367412199  45.048267 45.04828219159\n",
       " 18112179  44.993274 44.99327098082\n",
       "300702156 44.9690933  44.9690763768\n",
       "   215101 44.9960101 44.99606023501\n",
       "367412179  44.996028 44.99606023501\n",
       "252907206 45.0569813 45.05702841559\n",
       "300702174 45.0569813 45.05702841559\n",
       "300002179 45.1321253 45.13214374785"
      ]
     },
     "execution_count": 17,
     "metadata": {},
     "output_type": "execute_result"
    }
   ],
   "source": [
    "tableV[['ObsID','RAJ2000','ra']]"
   ]
  },
  {
   "cell_type": "markdown",
   "metadata": {},
   "source": [
    "## Gaia RVS selection function"
   ]
  },
  {
   "cell_type": "markdown",
   "metadata": {},
   "source": [
    "One other unique function provided in the Gaia archive is gaia_healpix_index which gives the healpix number of each Gaia source. Healpix are a method of dividing up the sphere into equal area pixels. This is useful as we can bin the catalogue by Healpix. In the following we count all sources in bins of G and healpix for a small region on the sky. "
   ]
  },
  {
   "cell_type": "code",
   "execution_count": 18,
   "metadata": {},
   "outputs": [
    {
     "name": "stdout",
     "output_type": "stream",
     "text": [
      "Query finished.\n",
      " g  \n",
      "----\n",
      " 7.0\n",
      " 7.5\n",
      " 8.0\n",
      " 8.5\n",
      " 9.0\n",
      " 9.5\n",
      "10.0\n",
      "10.5\n",
      "11.0\n",
      "11.5\n",
      "12.0\n",
      "12.5\n",
      "13.0\n",
      "13.5\n",
      "14.0\n",
      "14.5\n",
      "15.0\n",
      "15.5\n",
      "16.0\n",
      "16.5\n",
      "17.0\n"
     ]
    }
   ],
   "source": [
    "from astroquery.gaia import Gaia\n",
    "job = Gaia.launch_job_async(\n",
    "    \"\"\"select gaia_healpix_index(8, source_id) AS hpx8, count(*), round(phot_g_mean_mag*2.)/2 as G \"\"\"\n",
    "    \"\"\"from gaiadr2.gaia_source \"\"\"\n",
    "    \"\"\"where 1=CONTAINS(POINT('ICRS',ra,dec),CIRCLE('ICRS',50,50, 1.)) \"\"\"\n",
    "    \"\"\" and phot_g_mean_mag>6. and phot_g_mean_mag<17. \"\"\"\n",
    "    \"\"\"group by hpx8, G order by G\"\"\"\n",
    ")\n",
    "table3 = job.get_results();\n",
    "table3['gbin']=np.digitize(table3['g'],np.arange(6.,17.,0.5))\n",
    "print(np.unique(table3['g']))"
   ]
  },
  {
   "cell_type": "markdown",
   "metadata": {},
   "source": [
    "We plot with healpy."
   ]
  },
  {
   "cell_type": "code",
   "execution_count": 19,
   "metadata": {},
   "outputs": [
    {
     "data": {
      "image/png": "[encoded data removed]",
      "text/plain": [
       "<Figure size 612x388.8 with 2 Axes>"
      ]
     },
     "metadata": {
      "needs_background": "light"
     },
     "output_type": "display_data"
    }
   ],
   "source": [
    "import healpy as hp\n",
    "NSIDE = 256\n",
    "Gbin=20\n",
    "H = np.ones(hp.nside2npix(NSIDE))*np.nan\n",
    "H[table3['hpx8'][table3['gbin']==Gbin]]=table3['count_all'][table3['gbin']==Gbin]\n",
    "hp.mollview(H,nest=True,coord='G')"
   ]
  },
  {
   "cell_type": "markdown",
   "metadata": {},
   "source": [
    "We perform the same calculation for those stars with radial velocities."
   ]
  },
  {
   "cell_type": "code",
   "execution_count": 20,
   "metadata": {},
   "outputs": [
    {
     "name": "stdout",
     "output_type": "stream",
     "text": [
      "Query finished.\n"
     ]
    }
   ],
   "source": [
    "from astroquery.gaia import Gaia\n",
    "job = Gaia.launch_job_async(\n",
    "    \"\"\"select gaia_healpix_index(8, source_id) AS hpx8, count(*), round(phot_g_mean_mag*2.)/2 as G \"\"\"\n",
    "    \"\"\"from gaiadr2.gaia_source \"\"\"\n",
    "    \"\"\"where 1=CONTAINS(POINT('ICRS',ra,dec),CIRCLE('ICRS',50,50, 1.)) \"\"\"\n",
    "    \"\"\" and phot_g_mean_mag>6. and phot_g_mean_mag<17. and radial_velocity>-1000 \"\"\"\n",
    "    \"\"\"group by hpx8, G order by G\"\"\"\n",
    ")\n",
    "table3_RV = job.get_results();\n",
    "table3_RV['gbin']=np.digitize(table3_RV['g'],np.arange(6.,17.,0.5))"
   ]
  },
  {
   "cell_type": "markdown",
   "metadata": {},
   "source": [
    "Plotting the ratio we see the approx. selection function of the RVS in this part of the sky. Approx. complete up to G=13 mag."
   ]
  },
  {
   "cell_type": "code",
   "execution_count": 24,
   "metadata": {},
   "outputs": [
    {
     "data": {
      "image/png": "[encoded data removed]",
      "text/plain": [
       "<Figure size 432x288 with 1 Axes>"
      ]
     },
     "metadata": {
      "needs_background": "light"
     },
     "output_type": "display_data"
    }
   ],
   "source": [
    "plt.hist(table3['g'],range=[6.,14.],bins=18,histtype='step',label='All',weights=table3['count_all'])\n",
    "plt.hist(table3_RV['g'],range=[6.,14.],bins=18,histtype='step',label='RVS',weights=table3_RV['count_all'])\n",
    "# plt.ylim(0.,80.)\n",
    "plt.xlabel(r'$G$')\n",
    "plt.legend(loc='upper left',fontsize=20);"
   ]
  },
  {
   "cell_type": "code",
   "execution_count": 26,
   "metadata": {},
   "outputs": [
    {
     "data": {
      "text/plain": [
       "Text(0, 0.5, 'Ratio RVS/All')"
      ]
     },
     "execution_count": 26,
     "metadata": {},
     "output_type": "execute_result"
    },
    {
     "data": {
      "image/png": "[encoded data removed]",
      "text/plain": [
       "<Figure size 432x288 with 1 Axes>"
      ]
     },
     "metadata": {
      "needs_background": "light"
     },
     "output_type": "display_data"
    }
   ],
   "source": [
    "nn,bb = np.histogram(table3['g'],range=[6.,15.],bins=18,weights=table3['count_all'])\n",
    "nn2,bb = np.histogram(table3_RV['g'],bins=bb,weights=table3_RV['count_all'])\n",
    "plt.plot(.5*(bb[1:]+bb[:-1]),nn2/nn)\n",
    "\n",
    "plt.xlabel(r'$G$')\n",
    "plt.ylabel(r'Ratio RVS/All')"
   ]
  },
  {
   "cell_type": "markdown",
   "metadata": {},
   "source": [
    "# Other methods"
   ]
  },
  {
   "cell_type": "markdown",
   "metadata": {},
   "source": [
    "## Reading downloaded VOT\n",
    "Go to Gaia Archive (https://gea.esac.esa.int/archive/), query database, download vot (or other formats) and read in with astropy"
   ]
  },
  {
   "cell_type": "code",
   "execution_count": null,
   "metadata": {},
   "outputs": [],
   "source": [
    "from astropy.table import Table\n",
    "t = Table.read('/Users/jls/Downloads/1548744700623O-result.vot')\n",
    "print(t)"
   ]
  },
  {
   "cell_type": "markdown",
   "metadata": {},
   "source": [
    "## Use TOPCAT\n",
    "Download http://www.star.bris.ac.uk/~mbt/topcat/, query TAP services, etc."
   ]
  },
  {
   "cell_type": "code",
   "execution_count": null,
   "metadata": {},
   "outputs": [],
   "source": [
    "from astroquery.simbad import Simbad\n",
    "result_table = Simbad.query_object(\"Hyades\")\n",
    "print(SkyCoord(ra='{}h{}m{}s'.format(*result_table['RA'][0].split(' ')), \n",
    "                  dec='{}d{}m{}s'.format(*result_table['DEC'][0].split(' '))))"
   ]
  }
 ],
 "metadata": {
  "kernelspec": {
   "display_name": "Python 3",
   "language": "python",
   "name": "python3"
  },
  "language_info": {
   "codemirror_mode": {
    "name": "ipython",
    "version": 3
   },
   "file_extension": ".py",
   "mimetype": "text/x-python",
   "name": "python",
   "nbconvert_exporter": "python",
   "pygments_lexer": "ipython3",
   "version": "3.7.1"
  },
  "latex_metadata": {
   "affiliation": "Institute of Astronomy, Cambridge",
   "author": "Jason L. Sanders",
   "title": "Tutorial 1"
  }
 },
 "nbformat": 4,
 "nbformat_minor": 2
}
